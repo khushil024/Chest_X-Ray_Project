{
 "cells": [
  {
   "cell_type": "code",
   "execution_count": 1,
   "metadata": {
    "colab": {
     "base_uri": "https://localhost:8080/"
    },
    "executionInfo": {
     "elapsed": 8929,
     "status": "ok",
     "timestamp": 1604136419388,
     "user": {
      "displayName": "Khushil yadav",
      "photoUrl": "",
      "userId": "17383782050180458030"
     },
     "user_tz": -330
    },
    "id": "z56W4KLShl15",
    "outputId": "fd5aac1f-9bcb-4430-f7e9-4fdd5ecb15fa"
   },
   "outputs": [
    {
     "name": "stdout",
     "output_type": "stream",
     "text": [
      "2.3.0\n",
      "/device:GPU:0\n",
      "Num GPUs Available:  1\n"
     ]
    }
   ],
   "source": [
    "%tensorflow_version 2.x\n",
    "import tensorflow as tf\n",
    "print(tf.__version__)\n",
    "print(tf.test.gpu_device_name())\n",
    "print(\"Num GPUs Available: \", len(tf.config.experimental.list_physical_devices('GPU')))"
   ]
  },
  {
   "cell_type": "code",
   "execution_count": 12,
   "metadata": {
    "executionInfo": {
     "elapsed": 5705,
     "status": "ok",
     "timestamp": 1604136941955,
     "user": {
      "displayName": "Khushil yadav",
      "photoUrl": "",
      "userId": "17383782050180458030"
     },
     "user_tz": -330
    },
    "id": "NU7HsoDTh1WT"
   },
   "outputs": [],
   "source": [
    "!pip install -q -U keras-tuner\n",
    "import os\n",
    "import cv2\n",
    "import pickle\n",
    "import zipfile\n",
    "import numpy as np\n",
    "import pandas as pd\n",
    "import seaborn as sns\n",
    "import IPython\n",
    "from PIL import Image\n",
    "import kerastuner as kt\n",
    "import tensorflow as tf\n",
    "from skimage.io import imread\n",
    "import matplotlib.pyplot as plt\n",
    "import matplotlib.image as mimg\n",
    "from keras.utils import to_categorical\n",
    "from tensorflow.keras.callbacks import ModelCheckpoint, Callback, EarlyStopping\n",
    "from tensorflow.keras.utils import to_categorical\n",
    "from keras.optimizers import Adam, SGD, RMSprop\n",
    "from tensorflow.keras.layers import Dropout, Conv2D, MaxPool2D, BatchNormalization,Dense,GlobalAveragePooling2D,Flatten,SeparableConv2D\n",
    "from tensorflow.keras import Model,layers\n",
    "from tensorflow.keras.applications.inception_v3 import InceptionV3\n",
    "from kerastuner.engine.hyperparameters import HyperParameters\n",
    "from pathlib import Path\n",
    "color = sns.color_palette()"
   ]
  },
  {
   "cell_type": "code",
   "execution_count": 3,
   "metadata": {
    "colab": {
     "base_uri": "https://localhost:8080/"
    },
    "executionInfo": {
     "elapsed": 29311,
     "status": "ok",
     "timestamp": 1604136471881,
     "user": {
      "displayName": "Khushil yadav",
      "photoUrl": "",
      "userId": "17383782050180458030"
     },
     "user_tz": -330
    },
    "id": "5GhxhiSg6UOR",
    "outputId": "a72788bf-45de-415c-fb29-1d0157673457"
   },
   "outputs": [
    {
     "name": "stdout",
     "output_type": "stream",
     "text": [
      "Mounted at /content/drive\n"
     ]
    }
   ],
   "source": [
    "from google.colab import drive\n",
    "drive.mount('/content/drive')"
   ]
  },
  {
   "cell_type": "code",
   "execution_count": 4,
   "metadata": {
    "executionInfo": {
     "elapsed": 37672,
     "status": "ok",
     "timestamp": 1604136517090,
     "user": {
      "displayName": "Khushil yadav",
      "photoUrl": "",
      "userId": "17383782050180458030"
     },
     "user_tz": -330
    },
    "id": "iyOMSZnQv445"
   },
   "outputs": [],
   "source": [
    "#extracting test Images from Zip file\n",
    "local_zip = '/content/drive/My Drive/chest_xray.zip'\n",
    "zip_ref = zipfile.ZipFile(local_zip,'r')\n",
    "zip_ref.extractall('/tmp')\n",
    "zip_ref.close()"
   ]
  },
  {
   "cell_type": "code",
   "execution_count": 5,
   "metadata": {
    "executionInfo": {
     "elapsed": 1048,
     "status": "ok",
     "timestamp": 1604136534010,
     "user": {
      "displayName": "Khushil yadav",
      "photoUrl": "",
      "userId": "17383782050180458030"
     },
     "user_tz": -330
    },
    "id": "L5ox4tGJuJpD"
   },
   "outputs": [],
   "source": [
    "IMG_SIZE = 200\n",
    "data_dir = Path('/tmp/chest_xray')\n",
    "test_dir = data_dir/'test'"
   ]
  },
  {
   "cell_type": "code",
   "execution_count": 6,
   "metadata": {
    "executionInfo": {
     "elapsed": 83006,
     "status": "ok",
     "timestamp": 1604136619483,
     "user": {
      "displayName": "Khushil yadav",
      "photoUrl": "",
      "userId": "17383782050180458030"
     },
     "user_tz": -330
    },
    "id": "KNUMI2QmAeLb"
   },
   "outputs": [],
   "source": [
    "#loading the Augmented Training Images \n",
    "train_images = pd.read_pickle(r'/content/drive/My Drive/X_200.pickle')\n",
    "train_labels = pd.read_pickle(r'/content/drive/My Drive/y_200.pickle')"
   ]
  },
  {
   "cell_type": "code",
   "execution_count": 8,
   "metadata": {
    "colab": {
     "base_uri": "https://localhost:8080/"
    },
    "executionInfo": {
     "elapsed": 7641,
     "status": "ok",
     "timestamp": 1604136633364,
     "user": {
      "displayName": "Khushil yadav",
      "photoUrl": "",
      "userId": "17383782050180458030"
     },
     "user_tz": -330
    },
    "id": "3_iFwsQzAxoN",
    "outputId": "6a9fd2ff-41a7-4efb-ba11-0723ffdbc817"
   },
   "outputs": [
    {
     "name": "stdout",
     "output_type": "stream",
     "text": [
      "(7898, 200, 200, 3)\n",
      "(7898,)\n"
     ]
    }
   ],
   "source": [
    "#Shuffling the data\n",
    "train_images = np.array(train_images)\n",
    "train_labels = np.array(train_labels)\n",
    "idx = np.random.permutation(len(train_images))\n",
    "train_images,train_labels = train_images[idx], train_labels[idx]\n",
    "print (train_images.shape)\n",
    "print (train_labels.shape)"
   ]
  },
  {
   "cell_type": "code",
   "execution_count": 10,
   "metadata": {
    "executionInfo": {
     "elapsed": 726,
     "status": "ok",
     "timestamp": 1604136724605,
     "user": {
      "displayName": "Khushil yadav",
      "photoUrl": "",
      "userId": "17383782050180458030"
     },
     "user_tz": -330
    },
    "id": "MkOvpktQehCv"
   },
   "outputs": [],
   "source": [
    "def get_data(dir):\n",
    "    normal_cases_dir = dir/'NORMAL'\n",
    "    pneumonia_cases_dir = dir/'PNEUMONIA'\n",
    "\n",
    "    normal_cases = normal_cases_dir.glob('*.jpeg')\n",
    "    pneumonia_cases = pneumonia_cases_dir.glob('*.jpeg')\n",
    "\n",
    "    data = []\n",
    "    labels = []\n",
    "\n",
    "    for img in normal_cases:\n",
    "        img = cv2.imread(str(img))\n",
    "        img = cv2.resize(img,(IMG_SIZE,IMG_SIZE))\n",
    "        if img.shape[2] == 1:\n",
    "            img = np.dstack([img,img,img])\n",
    "        img = cv2.cvtColor(img, cv2.COLOR_BGR2RGB)\n",
    "        img = img.astype(np.float32)/255\n",
    "        label = 0\n",
    "        data.append(img)\n",
    "        labels.append(label)\n",
    "\n",
    "    for img in pneumonia_cases:\n",
    "        img = cv2.imread(str(img))\n",
    "        img = cv2.resize(img,(IMG_SIZE,IMG_SIZE))\n",
    "        if img.shape[2]==1:\n",
    "            img = np.dstack([img,img,img])\n",
    "        img = cv2.cvtColor(img,cv2.COLOR_BGR2RGB)\n",
    "        img = img.astype(np.float32)/255\n",
    "        label = 1\n",
    "        data.append(img)\n",
    "        labels.append(label)  \n",
    "    data = np.array(data)\n",
    "    labels = np.array(labels)\n",
    "    return data, labels"
   ]
  },
  {
   "cell_type": "code",
   "execution_count": 7,
   "metadata": {
    "colab": {
     "base_uri": "https://localhost:8080/"
    },
    "executionInfo": {
     "elapsed": 71236,
     "status": "ok",
     "timestamp": 1604136625705,
     "user": {
      "displayName": "Khushil yadav",
      "photoUrl": "",
      "userId": "17383782050180458030"
     },
     "user_tz": -330
    },
    "id": "rBcX6xbY7jow",
    "outputId": "6d3e64c6-c334-4bc2-e2a8-471596fc630e"
   },
   "outputs": [
    {
     "name": "stdout",
     "output_type": "stream",
     "text": [
      "--2020-10-31 09:30:19--  https://storage.googleapis.com/mledu-datasets/inception_v3_weights_tf_dim_ordering_tf_kernels_notop.h5\n",
      "Resolving storage.googleapis.com (storage.googleapis.com)... 173.194.198.128, 209.85.145.128, 209.85.147.128, ...\n",
      "Connecting to storage.googleapis.com (storage.googleapis.com)|173.194.198.128|:443... connected.\n",
      "HTTP request sent, awaiting response... 200 OK\n",
      "Length: 87910968 (84M) [application/x-hdf]\n",
      "Saving to: ‘/tmp/inception_v3_weights_tf_dim_ordering_tf_kernels_notop.h5’\n",
      "\n",
      "/tmp/inception_v3_w 100%[===================>]  83.84M  51.4MB/s    in 1.6s    \n",
      "\n",
      "2020-10-31 09:30:21 (51.4 MB/s) - ‘/tmp/inception_v3_weights_tf_dim_ordering_tf_kernels_notop.h5’ saved [87910968/87910968]\n",
      "\n",
      "last layer output shape:  (None, 10, 10, 768)\n"
     ]
    }
   ],
   "source": [
    "#Downloading Weights of InceptionV3 for Transfer Learning\n",
    "!wget --no-check-certificate \\\n",
    "    https://storage.googleapis.com/mledu-datasets/inception_v3_weights_tf_dim_ordering_tf_kernels_notop.h5 \\\n",
    "    -O /tmp/inception_v3_weights_tf_dim_ordering_tf_kernels_notop.h5\n",
    "local_weights_file = '/tmp/inception_v3_weights_tf_dim_ordering_tf_kernels_notop.h5'\n",
    "pre_trained_model = InceptionV3(input_shape = (IMG_SIZE, IMG_SIZE, 3), \n",
    "                                include_top = False, \n",
    "                                weights = None)\n",
    "pre_trained_model.load_weights(local_weights_file)\n",
    "for layer in pre_trained_model.layers:\n",
    "    layer.trainable = False\n",
    "last_layer = pre_trained_model.get_layer('mixed7')\n",
    "print('last layer output shape: ', last_layer.output_shape)\n",
    "last_output = last_layer.output"
   ]
  },
  {
   "cell_type": "code",
   "execution_count": 19,
   "metadata": {
    "executionInfo": {
     "elapsed": 1236,
     "status": "ok",
     "timestamp": 1604137628336,
     "user": {
      "displayName": "Khushil yadav",
      "photoUrl": "",
      "userId": "17383782050180458030"
     },
     "user_tz": -330
    },
    "id": "TRg3Nz7R8T59"
   },
   "outputs": [],
   "source": [
    "def model_builder(hp):\n",
    "    l1_regularizer = hp.Choice('l1', values = [1e-3,1e-4,1e-5,1e-6]) #l1_regularization\n",
    "    l2_regularizer = hp.Choice('l2', values = [1e-3,1e-4,1e-5,1e-6]) #l2_regularization\n",
    "    dropout_prob =hp.Choice('dropout_prob', values = [0.2,0.25,0.3,0.35,0.4]) #Dropout \n",
    "    x = Conv2D(64,(3,3),activation = 'relu', name = 'conv1',kernel_regularizer=tf.keras.regularizers.l1_l2(l1=l1_regularizer, l2=l2_regularizer))(last_output)\n",
    "    x = Conv2D(64,(3,3),activation = 'relu', name = 'conv2',kernel_regularizer=tf.keras.regularizers.l1_l2(l1=l1_regularizer, l2=l2_regularizer))(x)\n",
    "    x = MaxPool2D((2,2),name = 'pool_1')(x)\n",
    "    x = Conv2D(128, (3,3), activation='relu', padding='same', name='Conv3',kernel_regularizer=tf.keras.regularizers.l1_l2(l1=l1_regularizer, l2=l2_regularizer))(x)\n",
    "    x = Conv2D(128, (3,3), activation='relu', padding='same', name='Conv4',kernel_regularizer=tf.keras.regularizers.l1_l2(l1=l1_regularizer, l2=l2_regularizer))(x)\n",
    "    x = GlobalAveragePooling2D()(x)\n",
    "    x = BatchNormalization(name='bn_1')(x)\n",
    "    x = Flatten()(x)\n",
    "    x = Dense(128, activation='relu',kernel_regularizer=tf.keras.regularizers.l1_l2(l1=l1_regularizer, l2=l2_regularizer))(x)\n",
    "    x = Dropout(dropout_prob)(x)\n",
    "    x = Dense(96, activation='relu',kernel_regularizer=tf.keras.regularizers.l1_l2(l1=l1_regularizer, l2=l2_regularizer))(x)\n",
    "    x = Dropout(dropout_prob)(x)\n",
    "    x = Dense(1, activation = 'sigmoid')(x)\n",
    "    model = Model(pre_trained_model.input,x)\n",
    "    model.compile(optimizer = 'adam', loss = 'binary_crossentropy',metrics= [tf.keras.metrics.Precision(), tf.keras.metrics.Recall(), 'accuracy'])\n",
    "    return model"
   ]
  },
  {
   "cell_type": "code",
   "execution_count": 15,
   "metadata": {
    "colab": {
     "base_uri": "https://localhost:8080/"
    },
    "executionInfo": {
     "elapsed": 17047,
     "status": "ok",
     "timestamp": 1604137498722,
     "user": {
      "displayName": "Khushil yadav",
      "photoUrl": "",
      "userId": "17383782050180458030"
     },
     "user_tz": -330
    },
    "id": "U72uUjLMaYGI",
    "outputId": "bd70e830-99ef-4be6-f15b-eae7a9c00f2d"
   },
   "outputs": [
    {
     "name": "stdout",
     "output_type": "stream",
     "text": [
      "Total number of test examples:  (624, 200, 200, 3)\n",
      "Total number of labels: (624,)\n"
     ]
    }
   ],
   "source": [
    "test_data, test_labels = get_data(test_dir)\n",
    "print(\"Total number of test examples: \", test_data.shape)\n",
    "print(\"Total number of labels:\", test_labels.shape)"
   ]
  },
  {
   "cell_type": "code",
   "execution_count": 20,
   "metadata": {
    "executionInfo": {
     "elapsed": 1043,
     "status": "ok",
     "timestamp": 1604137631301,
     "user": {
      "displayName": "Khushil yadav",
      "photoUrl": "",
      "userId": "17383782050180458030"
     },
     "user_tz": -330
    },
    "id": "hrkzjaEu3dXj"
   },
   "outputs": [],
   "source": [
    "#Tuning the Hyperpaameters using Keras tuner\n",
    "tuner = kt.Hyperband(model_builder,\n",
    "                     objective = 'val_accuracy', \n",
    "                     max_epochs = 10,\n",
    "                     factor = 3,\n",
    "                     directory = 'hyperparamters2',\n",
    "                     project_name = 'trails')  "
   ]
  },
  {
   "cell_type": "code",
   "execution_count": 21,
   "metadata": {
    "executionInfo": {
     "elapsed": 986,
     "status": "ok",
     "timestamp": 1604137635287,
     "user": {
      "displayName": "Khushil yadav",
      "photoUrl": "",
      "userId": "17383782050180458030"
     },
     "user_tz": -330
    },
    "id": "5hg75Urr42mX"
   },
   "outputs": [],
   "source": [
    "class ClearTrainingOutput(tf.keras.callbacks.Callback):\n",
    "    def on_train_end(*args, **kwargs):\n",
    "        IPython.display.clear_output(wait = True)"
   ]
  },
  {
   "cell_type": "code",
   "execution_count": 22,
   "metadata": {
    "colab": {
     "base_uri": "https://localhost:8080/",
     "height": 312
    },
    "executionInfo": {
     "elapsed": 2321023,
     "status": "ok",
     "timestamp": 1604139971664,
     "user": {
      "displayName": "Khushil yadav",
      "photoUrl": "",
      "userId": "17383782050180458030"
     },
     "user_tz": -330
    },
    "id": "_75jr-Rb46AT",
    "outputId": "a1865afb-1790-4091-97aa-7dd6d3ffc6c7"
   },
   "outputs": [
    {
     "data": {
      "text/html": [
       "<span style=\"color:#4527A0\"><h1 style=\"font-size:18px\">Trial complete</h1></span>"
      ],
      "text/plain": [
       "<IPython.core.display.HTML object>"
      ]
     },
     "metadata": {
      "tags": []
     },
     "output_type": "display_data"
    },
    {
     "data": {
      "text/html": [
       "<span style=\"color:#4527A0\"><h1 style=\"font-size:18px\">Trial summary</h1></span>"
      ],
      "text/plain": [
       "<IPython.core.display.HTML object>"
      ]
     },
     "metadata": {
      "tags": []
     },
     "output_type": "display_data"
    },
    {
     "data": {
      "text/html": [
       "<span style=\"color:cyan\"> |-Trial ID: 44a93a531d9fd62baa04165419f95d9b</span>"
      ],
      "text/plain": [
       "<IPython.core.display.HTML object>"
      ]
     },
     "metadata": {
      "tags": []
     },
     "output_type": "display_data"
    },
    {
     "data": {
      "text/html": [
       "<span style=\"color:cyan\"> |-Score: 0.9070512652397156</span>"
      ],
      "text/plain": [
       "<IPython.core.display.HTML object>"
      ]
     },
     "metadata": {
      "tags": []
     },
     "output_type": "display_data"
    },
    {
     "data": {
      "text/html": [
       "<span style=\"color:cyan\"> |-Best step: 0</span>"
      ],
      "text/plain": [
       "<IPython.core.display.HTML object>"
      ]
     },
     "metadata": {
      "tags": []
     },
     "output_type": "display_data"
    },
    {
     "data": {
      "text/html": [
       "<span style=\"color:#7E57C2\"><h2 style=\"font-size:16px\">Hyperparameters:</h2></span>"
      ],
      "text/plain": [
       "<IPython.core.display.HTML object>"
      ]
     },
     "metadata": {
      "tags": []
     },
     "output_type": "display_data"
    },
    {
     "data": {
      "text/html": [
       "<span style=\"color:cyan\"> |-dropout_prob: 0.35</span>"
      ],
      "text/plain": [
       "<IPython.core.display.HTML object>"
      ]
     },
     "metadata": {
      "tags": []
     },
     "output_type": "display_data"
    },
    {
     "data": {
      "text/html": [
       "<span style=\"color:blue\"> |-l1: 1e-05</span>"
      ],
      "text/plain": [
       "<IPython.core.display.HTML object>"
      ]
     },
     "metadata": {
      "tags": []
     },
     "output_type": "display_data"
    },
    {
     "data": {
      "text/html": [
       "<span style=\"color:cyan\"> |-l2: 0.0001</span>"
      ],
      "text/plain": [
       "<IPython.core.display.HTML object>"
      ]
     },
     "metadata": {
      "tags": []
     },
     "output_type": "display_data"
    },
    {
     "data": {
      "text/html": [
       "<span style=\"color:blue\"> |-tuner/bracket: 0</span>"
      ],
      "text/plain": [
       "<IPython.core.display.HTML object>"
      ]
     },
     "metadata": {
      "tags": []
     },
     "output_type": "display_data"
    },
    {
     "data": {
      "text/html": [
       "<span style=\"color:cyan\"> |-tuner/epochs: 10</span>"
      ],
      "text/plain": [
       "<IPython.core.display.HTML object>"
      ]
     },
     "metadata": {
      "tags": []
     },
     "output_type": "display_data"
    },
    {
     "data": {
      "text/html": [
       "<span style=\"color:blue\"> |-tuner/initial_epoch: 0</span>"
      ],
      "text/plain": [
       "<IPython.core.display.HTML object>"
      ]
     },
     "metadata": {
      "tags": []
     },
     "output_type": "display_data"
    },
    {
     "data": {
      "text/html": [
       "<span style=\"color:cyan\"> |-tuner/round: 0</span>"
      ],
      "text/plain": [
       "<IPython.core.display.HTML object>"
      ]
     },
     "metadata": {
      "tags": []
     },
     "output_type": "display_data"
    },
    {
     "name": "stdout",
     "output_type": "stream",
     "text": [
      "INFO:tensorflow:Oracle triggered exit\n"
     ]
    }
   ],
   "source": [
    "tuner.search(train_images, train_labels, epochs = 10, validation_data = (test_data, test_labels), callbacks = [ClearTrainingOutput()])\n",
    "# Getting the optimal hyperparameters\n",
    "best_hps = tuner.get_best_hyperparameters(num_trials = 1)[0]\n",
    "model = tuner.hypermodel.build(best_hps)"
   ]
  },
  {
   "cell_type": "code",
   "execution_count": 23,
   "metadata": {
    "colab": {
     "base_uri": "https://localhost:8080/"
    },
    "executionInfo": {
     "elapsed": 579932,
     "status": "ok",
     "timestamp": 1604140658174,
     "user": {
      "displayName": "Khushil yadav",
      "photoUrl": "",
      "userId": "17383782050180458030"
     },
     "user_tz": -330
    },
    "id": "yxBzEem6MN9t",
    "outputId": "3f25e1ab-a89a-4f06-f2af-be45f0ebf178"
   },
   "outputs": [
    {
     "name": "stdout",
     "output_type": "stream",
     "text": [
      "Epoch 1/50\n",
      "247/247 [==============================] - ETA: 0s - loss: 2.9767 - precision: 0.9604 - recall: 0.9525 - accuracy: 0.9575\n",
      "Epoch 00001: val_accuracy improved from -inf to 0.62981, saving model to BINARY.h5\n",
      "247/247 [==============================] - 19s 79ms/step - loss: 2.9767 - precision: 0.9604 - recall: 0.9525 - accuracy: 0.9575 - val_loss: 1.1394 - val_precision: 0.6280 - val_recall: 1.0000 - val_accuracy: 0.6298\n",
      "Epoch 2/50\n",
      "247/247 [==============================] - ETA: 0s - loss: 0.3694 - precision: 0.9766 - recall: 0.9595 - accuracy: 0.9689\n",
      "Epoch 00002: val_accuracy improved from 0.62981 to 0.84455, saving model to BINARY.h5\n",
      "247/247 [==============================] - 18s 73ms/step - loss: 0.3694 - precision: 0.9766 - recall: 0.9595 - accuracy: 0.9689 - val_loss: 0.6385 - val_precision: 0.8021 - val_recall: 0.9974 - val_accuracy: 0.8446\n",
      "Epoch 3/50\n",
      "247/247 [==============================] - ETA: 0s - loss: 0.3023 - precision: 0.9764 - recall: 0.9695 - accuracy: 0.9735\n",
      "Epoch 00003: val_accuracy did not improve from 0.84455\n",
      "247/247 [==============================] - 18s 72ms/step - loss: 0.3023 - precision: 0.9764 - recall: 0.9695 - accuracy: 0.9735 - val_loss: 0.6720 - val_precision: 0.7850 - val_recall: 0.9923 - val_accuracy: 0.8253\n",
      "Epoch 4/50\n",
      "247/247 [==============================] - ETA: 0s - loss: 0.2926 - precision: 0.9774 - recall: 0.9703 - accuracy: 0.9744\n",
      "Epoch 00004: val_accuracy did not improve from 0.84455\n",
      "247/247 [==============================] - 18s 72ms/step - loss: 0.2926 - precision: 0.9774 - recall: 0.9703 - accuracy: 0.9744 - val_loss: 1.6752 - val_precision: 0.6794 - val_recall: 1.0000 - val_accuracy: 0.7051\n",
      "Epoch 5/50\n",
      "247/247 [==============================] - ETA: 0s - loss: 0.2774 - precision: 0.9790 - recall: 0.9732 - accuracy: 0.9766\n",
      "Epoch 00005: val_accuracy did not improve from 0.84455\n",
      "247/247 [==============================] - 18s 72ms/step - loss: 0.2774 - precision: 0.9790 - recall: 0.9732 - accuracy: 0.9766 - val_loss: 1.2733 - val_precision: 0.7117 - val_recall: 1.0000 - val_accuracy: 0.7468\n",
      "Epoch 6/50\n",
      "247/247 [==============================] - ETA: 0s - loss: 0.2741 - precision: 0.9798 - recall: 0.9760 - accuracy: 0.9783\n",
      "Epoch 00006: val_accuracy did not improve from 0.84455\n",
      "247/247 [==============================] - 18s 72ms/step - loss: 0.2741 - precision: 0.9798 - recall: 0.9760 - accuracy: 0.9783 - val_loss: 0.9557 - val_precision: 0.7424 - val_recall: 0.9974 - val_accuracy: 0.7821\n",
      "Epoch 7/50\n",
      "247/247 [==============================] - ETA: 0s - loss: 0.2786 - precision: 0.9765 - recall: 0.9750 - accuracy: 0.9762\n",
      "Epoch 00007: val_accuracy improved from 0.84455 to 0.86699, saving model to BINARY.h5\n",
      "247/247 [==============================] - 18s 74ms/step - loss: 0.2786 - precision: 0.9765 - recall: 0.9750 - accuracy: 0.9762 - val_loss: 0.6560 - val_precision: 0.8259 - val_recall: 0.9974 - val_accuracy: 0.8670\n",
      "Epoch 8/50\n",
      "247/247 [==============================] - ETA: 0s - loss: 0.2768 - precision: 0.9841 - recall: 0.9726 - accuracy: 0.9789\n",
      "Epoch 00008: val_accuracy did not improve from 0.86699\n",
      "247/247 [==============================] - 18s 73ms/step - loss: 0.2768 - precision: 0.9841 - recall: 0.9726 - accuracy: 0.9789 - val_loss: 0.8953 - val_precision: 0.7847 - val_recall: 1.0000 - val_accuracy: 0.8285\n",
      "Epoch 9/50\n",
      "247/247 [==============================] - ETA: 0s - loss: 0.2752 - precision: 0.9810 - recall: 0.9737 - accuracy: 0.9778\n",
      "Epoch 00009: val_accuracy improved from 0.86699 to 0.86859, saving model to BINARY.h5\n",
      "247/247 [==============================] - 18s 74ms/step - loss: 0.2752 - precision: 0.9810 - recall: 0.9737 - accuracy: 0.9778 - val_loss: 0.6704 - val_precision: 0.8319 - val_recall: 0.9897 - val_accuracy: 0.8686\n",
      "Epoch 10/50\n",
      "247/247 [==============================] - ETA: 0s - loss: 0.2690 - precision: 0.9813 - recall: 0.9775 - accuracy: 0.9799\n",
      "Epoch 00010: val_accuracy did not improve from 0.86859\n",
      "247/247 [==============================] - 18s 72ms/step - loss: 0.2690 - precision: 0.9813 - recall: 0.9775 - accuracy: 0.9799 - val_loss: 1.5608 - val_precision: 0.6890 - val_recall: 1.0000 - val_accuracy: 0.7179\n",
      "Epoch 11/50\n",
      "247/247 [==============================] - ETA: 0s - loss: 0.2626 - precision: 0.9857 - recall: 0.9791 - accuracy: 0.9828\n",
      "Epoch 00011: val_accuracy did not improve from 0.86859\n",
      "247/247 [==============================] - 18s 72ms/step - loss: 0.2626 - precision: 0.9857 - recall: 0.9791 - accuracy: 0.9828 - val_loss: 0.6932 - val_precision: 0.8319 - val_recall: 0.9897 - val_accuracy: 0.8686\n",
      "Epoch 12/50\n",
      "247/247 [==============================] - ETA: 0s - loss: 0.2640 - precision: 0.9831 - recall: 0.9763 - accuracy: 0.9801\n",
      "Epoch 00012: val_accuracy improved from 0.86859 to 0.92468, saving model to BINARY.h5\n",
      "247/247 [==============================] - 18s 74ms/step - loss: 0.2640 - precision: 0.9831 - recall: 0.9763 - accuracy: 0.9801 - val_loss: 0.4469 - val_precision: 0.9153 - val_recall: 0.9692 - val_accuracy: 0.9247\n",
      "Epoch 13/50\n",
      "247/247 [==============================] - ETA: 0s - loss: 0.2542 - precision: 0.9821 - recall: 0.9786 - accuracy: 0.9808\n",
      "Epoch 00013: val_accuracy did not improve from 0.92468\n",
      "247/247 [==============================] - 18s 72ms/step - loss: 0.2542 - precision: 0.9821 - recall: 0.9786 - accuracy: 0.9808 - val_loss: 0.9188 - val_precision: 0.7863 - val_recall: 1.0000 - val_accuracy: 0.8301\n",
      "Epoch 14/50\n",
      "247/247 [==============================] - ETA: 0s - loss: 0.2547 - precision: 0.9852 - recall: 0.9796 - accuracy: 0.9828\n",
      "Epoch 00014: val_accuracy did not improve from 0.92468\n",
      "247/247 [==============================] - 18s 72ms/step - loss: 0.2547 - precision: 0.9852 - recall: 0.9796 - accuracy: 0.9828 - val_loss: 3.2081 - val_precision: 0.6321 - val_recall: 1.0000 - val_accuracy: 0.6362\n",
      "Epoch 15/50\n",
      "247/247 [==============================] - ETA: 0s - loss: 0.2629 - precision: 0.9834 - recall: 0.9804 - accuracy: 0.9823\n",
      "Epoch 00015: val_accuracy did not improve from 0.92468\n",
      "247/247 [==============================] - 18s 72ms/step - loss: 0.2629 - precision: 0.9834 - recall: 0.9804 - accuracy: 0.9823 - val_loss: 0.7962 - val_precision: 0.7927 - val_recall: 1.0000 - val_accuracy: 0.8365\n",
      "Epoch 16/50\n",
      "247/247 [==============================] - ETA: 0s - loss: 0.2526 - precision: 0.9840 - recall: 0.9819 - accuracy: 0.9833\n",
      "Epoch 00016: val_accuracy did not improve from 0.92468\n",
      "247/247 [==============================] - 18s 72ms/step - loss: 0.2526 - precision: 0.9840 - recall: 0.9819 - accuracy: 0.9833 - val_loss: 0.9816 - val_precision: 0.7734 - val_recall: 0.9974 - val_accuracy: 0.8157\n",
      "Epoch 17/50\n",
      "247/247 [==============================] - ETA: 0s - loss: 0.2467 - precision: 0.9885 - recall: 0.9794 - accuracy: 0.9843\n",
      "Epoch 00017: val_accuracy did not improve from 0.92468\n",
      "247/247 [==============================] - 18s 72ms/step - loss: 0.2467 - precision: 0.9885 - recall: 0.9794 - accuracy: 0.9843 - val_loss: 1.0225 - val_precision: 0.7558 - val_recall: 1.0000 - val_accuracy: 0.7981\n",
      "Epoch 18/50\n",
      "247/247 [==============================] - ETA: 0s - loss: 0.2723 - precision: 0.9847 - recall: 0.9799 - accuracy: 0.9827\n",
      "Epoch 00018: val_accuracy did not improve from 0.92468\n",
      "247/247 [==============================] - 18s 72ms/step - loss: 0.2723 - precision: 0.9847 - recall: 0.9799 - accuracy: 0.9827 - val_loss: 1.5555 - val_precision: 0.7052 - val_recall: 1.0000 - val_accuracy: 0.7388\n",
      "Epoch 19/50\n",
      "247/247 [==============================] - ETA: 0s - loss: 0.2415 - precision: 0.9865 - recall: 0.9796 - accuracy: 0.9834\n",
      "Epoch 00019: val_accuracy did not improve from 0.92468\n",
      "247/247 [==============================] - 18s 72ms/step - loss: 0.2415 - precision: 0.9865 - recall: 0.9796 - accuracy: 0.9834 - val_loss: 0.5725 - val_precision: 0.8565 - val_recall: 0.9795 - val_accuracy: 0.8846\n",
      "Epoch 20/50\n",
      "247/247 [==============================] - ETA: 0s - loss: 0.2399 - precision: 0.9837 - recall: 0.9806 - accuracy: 0.9825\n",
      "Epoch 00020: val_accuracy did not improve from 0.92468\n",
      "247/247 [==============================] - 18s 72ms/step - loss: 0.2399 - precision: 0.9837 - recall: 0.9806 - accuracy: 0.9825 - val_loss: 0.5844 - val_precision: 0.9503 - val_recall: 0.8333 - val_accuracy: 0.8686\n",
      "Epoch 21/50\n",
      "247/247 [==============================] - ETA: 0s - loss: 0.2601 - precision: 0.9842 - recall: 0.9812 - accuracy: 0.9830\n",
      "Epoch 00021: val_accuracy did not improve from 0.92468\n",
      "247/247 [==============================] - 18s 72ms/step - loss: 0.2601 - precision: 0.9842 - recall: 0.9812 - accuracy: 0.9830 - val_loss: 0.6822 - val_precision: 0.8280 - val_recall: 0.9872 - val_accuracy: 0.8638\n",
      "Epoch 22/50\n",
      "247/247 [==============================] - ETA: 0s - loss: 0.2464 - precision: 0.9837 - recall: 0.9783 - accuracy: 0.9814\n",
      "Epoch 00022: val_accuracy did not improve from 0.92468\n",
      "247/247 [==============================] - 18s 72ms/step - loss: 0.2464 - precision: 0.9837 - recall: 0.9783 - accuracy: 0.9814 - val_loss: 0.8785 - val_precision: 0.7890 - val_recall: 0.9974 - val_accuracy: 0.8317\n",
      "Epoch 23/50\n",
      "247/247 [==============================] - ETA: 0s - loss: 0.2376 - precision: 0.9886 - recall: 0.9822 - accuracy: 0.9857\n",
      "Epoch 00023: val_accuracy did not improve from 0.92468\n",
      "247/247 [==============================] - 18s 72ms/step - loss: 0.2376 - precision: 0.9886 - recall: 0.9822 - accuracy: 0.9857 - val_loss: 0.4278 - val_precision: 0.9012 - val_recall: 0.9821 - val_accuracy: 0.9215\n",
      "Epoch 24/50\n",
      "247/247 [==============================] - ETA: 0s - loss: 0.2302 - precision: 0.9886 - recall: 0.9835 - accuracy: 0.9863\n",
      "Epoch 00024: val_accuracy did not improve from 0.92468\n",
      "247/247 [==============================] - 18s 73ms/step - loss: 0.2302 - precision: 0.9886 - recall: 0.9835 - accuracy: 0.9863 - val_loss: 1.0523 - val_precision: 0.7769 - val_recall: 1.0000 - val_accuracy: 0.8205\n",
      "Epoch 25/50\n",
      "247/247 [==============================] - ETA: 0s - loss: 0.2322 - precision: 0.9891 - recall: 0.9832 - accuracy: 0.9865\n",
      "Epoch 00025: val_accuracy did not improve from 0.92468\n",
      "247/247 [==============================] - 18s 73ms/step - loss: 0.2322 - precision: 0.9891 - recall: 0.9832 - accuracy: 0.9865 - val_loss: 0.5064 - val_precision: 0.9198 - val_recall: 0.9410 - val_accuracy: 0.9119\n",
      "Epoch 26/50\n",
      "247/247 [==============================] - ETA: 0s - loss: 0.2506 - precision: 0.9842 - recall: 0.9806 - accuracy: 0.9828\n",
      "Epoch 00026: val_accuracy did not improve from 0.92468\n",
      "247/247 [==============================] - 18s 71ms/step - loss: 0.2506 - precision: 0.9842 - recall: 0.9806 - accuracy: 0.9828 - val_loss: 0.7524 - val_precision: 0.8245 - val_recall: 1.0000 - val_accuracy: 0.8670\n",
      "Epoch 27/50\n",
      "247/247 [==============================] - ETA: 0s - loss: 0.2443 - precision: 0.9870 - recall: 0.9827 - accuracy: 0.9852\n",
      "Epoch 00027: val_accuracy did not improve from 0.92468\n",
      "247/247 [==============================] - 18s 71ms/step - loss: 0.2443 - precision: 0.9870 - recall: 0.9827 - accuracy: 0.9852 - val_loss: 1.1521 - val_precision: 0.7290 - val_recall: 1.0000 - val_accuracy: 0.7676\n",
      "Epoch 28/50\n",
      "247/247 [==============================] - ETA: 0s - loss: 0.2276 - precision: 0.9894 - recall: 0.9843 - accuracy: 0.9871\n",
      "Epoch 00028: val_accuracy did not improve from 0.92468\n",
      "247/247 [==============================] - 18s 71ms/step - loss: 0.2276 - precision: 0.9894 - recall: 0.9843 - accuracy: 0.9871 - val_loss: 0.7936 - val_precision: 0.7898 - val_recall: 0.9923 - val_accuracy: 0.8301\n",
      "Epoch 29/50\n",
      "247/247 [==============================] - ETA: 0s - loss: 0.2415 - precision: 0.9867 - recall: 0.9788 - accuracy: 0.9832\n",
      "Epoch 00029: val_accuracy did not improve from 0.92468\n",
      "247/247 [==============================] - 18s 72ms/step - loss: 0.2415 - precision: 0.9867 - recall: 0.9788 - accuracy: 0.9832 - val_loss: 1.1758 - val_precision: 0.7481 - val_recall: 0.9974 - val_accuracy: 0.7885\n",
      "Epoch 30/50\n",
      "247/247 [==============================] - ETA: 0s - loss: 0.2282 - precision: 0.9868 - recall: 0.9853 - accuracy: 0.9863\n",
      "Epoch 00030: val_accuracy did not improve from 0.92468\n",
      "247/247 [==============================] - 18s 72ms/step - loss: 0.2282 - precision: 0.9868 - recall: 0.9853 - accuracy: 0.9863 - val_loss: 0.5435 - val_precision: 0.8833 - val_recall: 0.9897 - val_accuracy: 0.9119\n",
      "Epoch 31/50\n",
      "247/247 [==============================] - ETA: 0s - loss: 0.2293 - precision: 0.9886 - recall: 0.9832 - accuracy: 0.9862\n",
      "Epoch 00031: val_accuracy did not improve from 0.92468\n",
      "247/247 [==============================] - 18s 71ms/step - loss: 0.2293 - precision: 0.9886 - recall: 0.9832 - accuracy: 0.9862 - val_loss: 1.2635 - val_precision: 0.7500 - val_recall: 1.0000 - val_accuracy: 0.7917\n",
      "Epoch 32/50\n",
      "247/247 [==============================] - ETA: 0s - loss: 0.2269 - precision: 0.9870 - recall: 0.9835 - accuracy: 0.9856\n",
      "Epoch 00032: val_accuracy did not improve from 0.92468\n",
      "247/247 [==============================] - 18s 72ms/step - loss: 0.2269 - precision: 0.9870 - recall: 0.9835 - accuracy: 0.9856 - val_loss: 0.4778 - val_precision: 0.9142 - val_recall: 0.9564 - val_accuracy: 0.9167\n"
     ]
    }
   ],
   "source": [
    "#using Earlystopping to get the optimal results\n",
    "epochs_to_wait_for_improve = 20\n",
    "n_epochs = 50\n",
    "early_stopping_callback = EarlyStopping(monitor='val_accuracy', patience=epochs_to_wait_for_improve)\n",
    "checkpoint_callback = ModelCheckpoint('BINARY'+'.h5', monitor='val_accuracy', verbose=1, save_best_only=True, mode='max')\n",
    "history = model.fit(train_images,train_labels , validation_data = (test_data,test_labels),\n",
    "            epochs=n_epochs, callbacks=[early_stopping_callback, checkpoint_callback])"
   ]
  },
  {
   "cell_type": "code",
   "execution_count": 24,
   "metadata": {
    "colab": {
     "base_uri": "https://localhost:8080/",
     "height": 350
    },
    "executionInfo": {
     "elapsed": 1654,
     "status": "ok",
     "timestamp": 1604140741052,
     "user": {
      "displayName": "Khushil yadav",
      "photoUrl": "",
      "userId": "17383782050180458030"
     },
     "user_tz": -330
    },
    "id": "shuNb_rMnQvS",
    "outputId": "3d09da5b-b42c-42fd-8cbe-f76b9d0c9d86"
   },
   "outputs": [
    {
     "data": {
      "image/png": "[encoded data removed]",
      "text/plain": [
       "<Figure size 720x360 with 2 Axes>"
      ]
     },
     "metadata": {
      "tags": []
     },
     "output_type": "display_data"
    }
   ],
   "source": [
    "sns.set_style(\"darkgrid\")\n",
    "train_acc = history.history['accuracy']\n",
    "valid_acc = history.history['val_accuracy']\n",
    "train_loss = history.history['loss']\n",
    "valid_loss = history.history['val_loss']\n",
    "\n",
    "#get the entries\n",
    "xvalues = np.arange(len(train_acc))\n",
    "\n",
    "#visualise\n",
    "f, ax = plt.subplots(1,2, figsize = (10,5))\n",
    "ax[0].plot(xvalues, train_loss)\n",
    "ax[0].plot(xvalues, valid_loss)\n",
    "ax[0].set_title(\"Loss curve\")\n",
    "ax[0].set_xlabel(\"Epoch\")\n",
    "ax[0].set_ylabel(\"loss\")\n",
    "ax[0].legend(['train', 'validation'])\n",
    "\n",
    "ax[1].plot(xvalues,  train_acc)\n",
    "ax[1].plot(xvalues, valid_acc)\n",
    "ax[1].set_title(\"Accuracy\")\n",
    "ax[1].set_xlabel(\"Epoch\")\n",
    "ax[1].set_ylabel(\"accuracy\")\n",
    "ax[1].legend(['train', 'validation'])\n",
    "\n",
    "plt.show()"
   ]
  },
  {
   "cell_type": "code",
   "execution_count": 25,
   "metadata": {
    "colab": {
     "base_uri": "https://localhost:8080/"
    },
    "executionInfo": {
     "elapsed": 2538,
     "status": "ok",
     "timestamp": 1604140753121,
     "user": {
      "displayName": "Khushil yadav",
      "photoUrl": "",
      "userId": "17383782050180458030"
     },
     "user_tz": -330
    },
    "id": "zGnET7-pxU_n",
    "outputId": "54a53d20-8a06-4dc3-d013-817bdf283ac9"
   },
   "outputs": [
    {
     "name": "stdout",
     "output_type": "stream",
     "text": [
      "20/20 [==============================] - 1s 62ms/step - loss: 0.4778 - precision: 0.9142 - recall: 0.9564 - accuracy: 0.9167\n"
     ]
    }
   ],
   "source": [
    "eval = model.evaluate(test_data, test_labels)"
   ]
  },
  {
   "cell_type": "code",
   "execution_count": 26,
   "metadata": {
    "executionInfo": {
     "elapsed": 2923,
     "status": "ok",
     "timestamp": 1604140764017,
     "user": {
      "displayName": "Khushil yadav",
      "photoUrl": "",
      "userId": "17383782050180458030"
     },
     "user_tz": -330
    },
    "id": "YC4PmecTxgb8"
   },
   "outputs": [],
   "source": [
    "def get_predictions(model, test_data):\n",
    "    pred = model.predict(test_data)\n",
    "    predictions = []\n",
    "    for i in pred:\n",
    "        if i>0.5:\n",
    "            predictions.append(1)\n",
    "        else :\n",
    "            predictions.append(0)\n",
    "            predictions = np.array(predictions)\n",
    "    return predictions \n",
    "\n",
    "#Getting Predictions  \n",
    "predictions = get_predictions(model,test_data)"
   ]
  },
  {
   "cell_type": "code",
   "execution_count": 27,
   "metadata": {
    "colab": {
     "base_uri": "https://localhost:8080/",
     "height": 519
    },
    "executionInfo": {
     "elapsed": 985,
     "status": "ok",
     "timestamp": 1604140767280,
     "user": {
      "displayName": "Khushil yadav",
      "photoUrl": "",
      "userId": "17383782050180458030"
     },
     "user_tz": -330
    },
    "id": "YvJCJadvzGT2",
    "outputId": "645178ed-2cc4-4011-ddcb-badbcc24bcb7"
   },
   "outputs": [
    {
     "data": {
      "text/plain": [
       "<Figure size 432x288 with 0 Axes>"
      ]
     },
     "metadata": {
      "tags": []
     },
     "output_type": "display_data"
    },
    {
     "data": {
      "image/png": "[encoded data removed]",
      "text/plain": [
       "<Figure size 864x576 with 1 Axes>"
      ]
     },
     "metadata": {
      "tags": []
     },
     "output_type": "display_data"
    }
   ],
   "source": [
    "#Plotting the confusion matrix\n",
    "from mlxtend.plotting import plot_confusion_matrix\n",
    "from sklearn.metrics import confusion_matrix\n",
    "cm  = confusion_matrix(test_labels, predictions)\n",
    "plt.figure()\n",
    "plot_confusion_matrix(cm,figsize=(12,8), hide_ticks=True,cmap=plt.cm.Blues)\n",
    "plt.xticks(range(2), ['Normal', 'Pneumonia'], fontsize=16)\n",
    "plt.yticks(range(2), ['Normal', 'Pneumonia'], fontsize=16)\n",
    "plt.show()"
   ]
  }
 ],
 "metadata": {
  "accelerator": "GPU",
  "colab": {
   "collapsed_sections": [],
   "name": "Chest_X_Ray.ipynb",
   "provenance": []
  },
  "kernelspec": {
   "display_name": "Python 3",
   "language": "python",
   "name": "python3"
  },
  "language_info": {
   "codemirror_mode": {
    "name": "ipython",
    "version": 3
   },
   "file_extension": ".py",
   "mimetype": "text/x-python",
   "name": "python",
   "nbconvert_exporter": "python",
   "pygments_lexer": "ipython3",
   "version": "3.7.7"
  }
 },
 "nbformat": 4,
 "nbformat_minor": 1
}
